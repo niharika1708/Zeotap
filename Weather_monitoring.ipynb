{
  "nbformat": 4,
  "nbformat_minor": 0,
  "metadata": {
    "colab": {
      "provenance": []
    },
    "kernelspec": {
      "name": "python3",
      "display_name": "Python 3"
    },
    "language_info": {
      "name": "python"
    }
  },
  "cells": [
    {
      "cell_type": "code",
      "execution_count": 1,
      "metadata": {
        "colab": {
          "base_uri": "https://localhost:8080/"
        },
        "id": "qog532SghfqB",
        "outputId": "11d57ac9-fc05-4483-fd50-fe3335d284f2"
      },
      "outputs": [
        {
          "output_type": "stream",
          "name": "stdout",
          "text": [
            "Requirement already satisfied: requests in /usr/local/lib/python3.10/dist-packages (2.32.3)\n",
            "Requirement already satisfied: pandas in /usr/local/lib/python3.10/dist-packages (2.2.2)\n",
            "Requirement already satisfied: matplotlib in /usr/local/lib/python3.10/dist-packages (3.7.1)\n",
            "Requirement already satisfied: charset-normalizer<4,>=2 in /usr/local/lib/python3.10/dist-packages (from requests) (3.4.0)\n",
            "Requirement already satisfied: idna<4,>=2.5 in /usr/local/lib/python3.10/dist-packages (from requests) (3.10)\n",
            "Requirement already satisfied: urllib3<3,>=1.21.1 in /usr/local/lib/python3.10/dist-packages (from requests) (2.2.3)\n",
            "Requirement already satisfied: certifi>=2017.4.17 in /usr/local/lib/python3.10/dist-packages (from requests) (2024.8.30)\n",
            "Requirement already satisfied: numpy>=1.22.4 in /usr/local/lib/python3.10/dist-packages (from pandas) (1.26.4)\n",
            "Requirement already satisfied: python-dateutil>=2.8.2 in /usr/local/lib/python3.10/dist-packages (from pandas) (2.8.2)\n",
            "Requirement already satisfied: pytz>=2020.1 in /usr/local/lib/python3.10/dist-packages (from pandas) (2024.2)\n",
            "Requirement already satisfied: tzdata>=2022.7 in /usr/local/lib/python3.10/dist-packages (from pandas) (2024.2)\n",
            "Requirement already satisfied: contourpy>=1.0.1 in /usr/local/lib/python3.10/dist-packages (from matplotlib) (1.3.0)\n",
            "Requirement already satisfied: cycler>=0.10 in /usr/local/lib/python3.10/dist-packages (from matplotlib) (0.12.1)\n",
            "Requirement already satisfied: fonttools>=4.22.0 in /usr/local/lib/python3.10/dist-packages (from matplotlib) (4.54.1)\n",
            "Requirement already satisfied: kiwisolver>=1.0.1 in /usr/local/lib/python3.10/dist-packages (from matplotlib) (1.4.7)\n",
            "Requirement already satisfied: packaging>=20.0 in /usr/local/lib/python3.10/dist-packages (from matplotlib) (24.1)\n",
            "Requirement already satisfied: pillow>=6.2.0 in /usr/local/lib/python3.10/dist-packages (from matplotlib) (10.4.0)\n",
            "Requirement already satisfied: pyparsing>=2.3.1 in /usr/local/lib/python3.10/dist-packages (from matplotlib) (3.2.0)\n",
            "Requirement already satisfied: six>=1.5 in /usr/local/lib/python3.10/dist-packages (from python-dateutil>=2.8.2->pandas) (1.16.0)\n"
          ]
        }
      ],
      "source": [
        "!pip install requests pandas matplotlib\n"
      ]
    },
    {
      "cell_type": "code",
      "source": [
        "import requests\n",
        "import pandas as pd\n",
        "import time\n",
        "from datetime import datetime\n",
        "import matplotlib.pyplot as plt\n",
        "from collections import Counter\n"
      ],
      "metadata": {
        "id": "w6wTRLglhlAE"
      },
      "execution_count": 2,
      "outputs": []
    },
    {
      "cell_type": "code",
      "source": [
        "# OpenWeatherMap API Configuration\n",
        "API_KEY = 'a9bbc41def1bbee6cdcea813cf3d6601'  # Replace with your OpenWeatherMap API key\n",
        "CITIES = ['Delhi', 'Mumbai', 'Chennai', 'Bangalore', 'Kolkata', 'Hyderabad']\n",
        "BASE_URL = 'https://api.openweathermap.org/data/2.5/weather'\n",
        "\n",
        "def get_weather_data(city):\n",
        "    \"\"\"Fetch weather data from OpenWeatherMap API for a specific city.\"\"\"\n",
        "    params = {\n",
        "        'q': city,\n",
        "        'appid': API_KEY  # Make sure API_KEY is correctly defined and used here\n",
        "    }\n",
        "    response = requests.get(BASE_URL, params=params)\n",
        "    if response.status_code == 200:\n",
        "        return response.json()\n",
        "    else:\n",
        "        print(f\"Failed to get weather data for {city}. Error code: {response.status_code}\")\n",
        "        return None\n",
        "\n",
        "\n",
        "# Data Collection Interval (in seconds, e.g., 300 seconds = 5 minutes)\n",
        "INTERVAL = 300\n",
        "\n",
        "# Alert Thresholds\n",
        "TEMP_THRESHOLD = 35.0  # Celsius\n",
        "ALERT_CONSECUTIVE_COUNT = 2\n",
        "\n",
        "# Storage for Daily Weather Data\n",
        "weather_data = {city: [] for city in CITIES}\n",
        "alert_triggered = {city: 0 for city in CITIES}\n"
      ],
      "metadata": {
        "id": "M1jmWkpJhl0l"
      },
      "execution_count": 8,
      "outputs": []
    },
    {
      "cell_type": "code",
      "source": [
        "def kelvin_to_celsius(kelvin_temp):\n",
        "    \"\"\"Convert temperature from Kelvin to Celsius.\"\"\"\n",
        "    return kelvin_temp - 273.15\n",
        "\n",
        "def get_weather_data(city):\n",
        "    \"\"\"Fetch weather data from OpenWeatherMap API for a specific city.\"\"\"\n",
        "    params = {\n",
        "        'q': city,\n",
        "        'appid': API_KEY\n",
        "    }\n",
        "    response = requests.get(BASE_URL, params=params)\n",
        "    if response.status_code == 200:\n",
        "        return response.json()\n",
        "    else:\n",
        "        print(f\"Failed to get weather data for {city}. Error code: {response.status_code}\")\n",
        "        return None\n",
        "\n",
        "def process_weather_data(city, data):\n",
        "    \"\"\"Process the weather data and store it.\"\"\"\n",
        "    temp = kelvin_to_celsius(data['main']['temp'])\n",
        "    feels_like = kelvin_to_celsius(data['main']['feels_like'])\n",
        "    main_condition = data['weather'][0]['main']\n",
        "    timestamp = data['dt']\n",
        "\n",
        "    # Append to the city's weather data list\n",
        "    weather_data[city].append({\n",
        "        'timestamp': timestamp,\n",
        "        'temp': temp,\n",
        "        'feels_like': feels_like,\n",
        "        'condition': main_condition\n",
        "    })\n",
        "\n",
        "def calculate_daily_summary(city):\n",
        "    \"\"\"Calculate daily rollups for a city.\"\"\"\n",
        "    city_data = weather_data[city]\n",
        "    if not city_data:\n",
        "        return None\n",
        "\n",
        "    df = pd.DataFrame(city_data)\n",
        "    avg_temp = df['temp'].mean()\n",
        "    max_temp = df['temp'].max()\n",
        "    min_temp = df['temp'].min()\n",
        "    dominant_condition = Counter(df['condition']).most_common(1)[0][0]\n",
        "\n",
        "    daily_summary = {\n",
        "        'date': datetime.fromtimestamp(df['timestamp'].iloc[0]).strftime('%Y-%m-%d'),\n",
        "        'city': city,\n",
        "        'average_temp': avg_temp,\n",
        "        'max_temp': max_temp,\n",
        "        'min_temp': min_temp,\n",
        "        'dominant_condition': dominant_condition\n",
        "    }\n",
        "    return daily_summary\n",
        "\n",
        "def check_alert_conditions(city, current_temp):\n",
        "    \"\"\"Check if the temperature exceeds the threshold and trigger alerts.\"\"\"\n",
        "    global alert_triggered\n",
        "    if current_temp > TEMP_THRESHOLD:\n",
        "        alert_triggered[city] += 1\n",
        "        if alert_triggered[city] >= ALERT_CONSECUTIVE_COUNT:\n",
        "            print(f\"ALERT! Temperature in {city} has exceeded {TEMP_THRESHOLD}°C for {ALERT_CONSECUTIVE_COUNT} consecutive updates.\")\n",
        "    else:\n",
        "        alert_triggered[city] = 0\n"
      ],
      "metadata": {
        "id": "KS7eBSzehl95"
      },
      "execution_count": 9,
      "outputs": []
    },
    {
      "cell_type": "code",
      "source": [
        "import time\n",
        "from datetime import datetime\n",
        "\n",
        "CITIES = ['Delhi', 'Mumbai', 'Chennai', 'Bangalore', 'Kolkata', 'Hyderabad']\n",
        "INTERVAL = 20  # Interval in seconds (e.g., 5 minutes)\n",
        "weather_data = {city: [] for city in CITIES}  # Initialize an empty list for each city\n",
        "last_rollup_date = None\n",
        "\n",
        "remaining_time = INTERVAL\n",
        "while remaining_time > 0:\n",
        "    print(f\"Waiting for the next update... {remaining_time} seconds remaining\", end=\"\\r\")\n",
        "    time.sleep(1)\n",
        "    remaining_time -= 1\n",
        "print(\"\\n\")\n",
        "\n",
        "\n",
        "try:\n",
        "    while True:\n",
        "        for city in CITIES:\n",
        "            try:\n",
        "                weather_info = get_weather_data(city)\n",
        "                if weather_info:\n",
        "                    process_weather_data(city, weather_info)\n",
        "                    current_temp = kelvin_to_celsius(weather_info['main']['temp'])\n",
        "                    check_alert_conditions(city, current_temp)\n",
        "                else:\n",
        "                    print(f\"Failed to retrieve data for {city}\")\n",
        "            except Exception as e:\n",
        "                print(f\"An error occurred while processing data for {city}: {e}\")\n",
        "\n",
        "        # Wait for the configured interval before the next update\n",
        "        print(\"Waiting for the next update...\")\n",
        "        time.sleep(INTERVAL)\n",
        "\n",
        "        # Perform daily rollups at midnight (optional)\n",
        "        current_date = datetime.now().date()\n",
        "        if last_rollup_date != current_date:\n",
        "            print(\"Calculating daily summaries...\")\n",
        "            for city in CITIES:\n",
        "                daily_summary = calculate_daily_summary(city)\n",
        "                if daily_summary:\n",
        "                    print(daily_summary)\n",
        "                    # Clear stored weather data for the new day\n",
        "                    weather_data[city].clear()\n",
        "            last_rollup_date = current_date\n",
        "\n",
        "except KeyboardInterrupt:\n",
        "    print(\"Real-time weather monitoring stopped.\")\n"
      ],
      "metadata": {
        "colab": {
          "base_uri": "https://localhost:8080/"
        },
        "id": "-00y4sWyhl_7",
        "outputId": "a5a95e1d-d2b5-4ec5-cc80-4b5d720fd438"
      },
      "execution_count": 14,
      "outputs": [
        {
          "output_type": "stream",
          "name": "stdout",
          "text": [
            "\n",
            "\n",
            "Waiting for the next update...\n",
            "Calculating daily summaries...\n",
            "{'date': '2024-10-25', 'city': 'Delhi', 'average_temp': 23.05000000000001, 'max_temp': 23.05000000000001, 'min_temp': 23.05000000000001, 'dominant_condition': 'Haze'}\n",
            "{'date': '2024-10-25', 'city': 'Mumbai', 'average_temp': 28.99000000000001, 'max_temp': 28.99000000000001, 'min_temp': 28.99000000000001, 'dominant_condition': 'Haze'}\n",
            "{'date': '2024-10-25', 'city': 'Chennai', 'average_temp': 28.74000000000001, 'max_temp': 28.74000000000001, 'min_temp': 28.74000000000001, 'dominant_condition': 'Clouds'}\n",
            "{'date': '2024-10-25', 'city': 'Bangalore', 'average_temp': 22.430000000000007, 'max_temp': 22.430000000000007, 'min_temp': 22.430000000000007, 'dominant_condition': 'Mist'}\n",
            "{'date': '2024-10-25', 'city': 'Kolkata', 'average_temp': 25.970000000000027, 'max_temp': 25.970000000000027, 'min_temp': 25.970000000000027, 'dominant_condition': 'Thunderstorm'}\n",
            "{'date': '2024-10-25', 'city': 'Hyderabad', 'average_temp': 25.730000000000018, 'max_temp': 25.730000000000018, 'min_temp': 25.730000000000018, 'dominant_condition': 'Mist'}\n",
            "Waiting for the next update...\n",
            "Waiting for the next update...\n",
            "Waiting for the next update...\n",
            "Waiting for the next update...\n",
            "Real-time weather monitoring stopped.\n"
          ]
        }
      ]
    },
    {
      "cell_type": "code",
      "source": [
        "%matplotlib inline\n"
      ],
      "metadata": {
        "id": "YH7zA7vqyiX5"
      },
      "execution_count": 21,
      "outputs": []
    },
    {
      "cell_type": "code",
      "source": [
        "import matplotlib.pyplot as plt\n",
        "import pandas as pd\n",
        "\n",
        "def plot_daily_summary(daily_summary):\n",
        "    if not daily_summary:\n",
        "        print(\"No data to plot.\")\n",
        "        return\n",
        "\n",
        "    df = pd.DataFrame(daily_summary)\n",
        "    df['date'] = pd.to_datetime(df['date'], errors='coerce')\n",
        "\n",
        "    if df['date'].isnull().any():\n",
        "        print(\"Date conversion issue detected.\")\n",
        "        print(df)\n",
        "        return\n",
        "\n",
        "    plt.figure(figsize=(10, 6))\n",
        "\n",
        "    # Plot temperature data\n",
        "    plt.plot(df['date'], df['average_temp'], label='Average Temperature', marker='o')\n",
        "    plt.plot(df['date'], df['max_temp'], label='Max Temperature', marker='x')\n",
        "    plt.plot(df['date'], df['min_temp'], label='Min Temperature', marker='^')\n",
        "\n",
        "    # Set plot title and labels\n",
        "    plt.title('Daily Weather Summary')\n",
        "    plt.xlabel('Date')\n",
        "    plt.ylabel('Temperature (°C)')\n",
        "    plt.legend()\n",
        "    plt.grid()\n",
        "    plt.tight_layout()\n",
        "\n",
        "    # Explicitly show the plot\n",
        "    plt.show()\n",
        "\n",
        "# Example usage with sample data\n",
        "sample_data = [\n",
        "    {'date': '2024-10-25', 'city': 'Delhi', 'average_temp': 23.05000000000001, 'max_temp': 23.05000000000001, 'min_temp': 23.05000000000001, 'dominant_condition': 'Haze'},\n",
        "    {'date': '2024-10-25', 'city': 'Mumbai', 'average_temp': 28.99000000000001, 'max_temp': 28.99000000000001, 'min_temp': 28.99000000000001, 'dominant_condition': 'Haze'},\n",
        "    {'date': '2024-10-25', 'city': 'Chennai', 'average_temp': 28.74000000000001, 'max_temp': 28.74000000000001, 'min_temp': 28.74000000000001, 'dominant_condition': 'Clouds'},\n",
        "    {'date': '2024-10-25', 'city': 'Bangalore', 'average_temp': 22.430000000000007, 'max_temp': 22.430000000000007, 'min_temp': 22.430000000000007, 'dominant_condition': 'Mist'},\n",
        "    {'date': '2024-10-25', 'city': 'Kolkata', 'average_temp': 25.970000000000027, 'max_temp': 25.970000000000027, 'min_temp': 25.970000000000027, 'dominant_condition': 'Thunderstorm'},\n",
        "    {'date': '2024-10-25', 'city': 'Hyderabad', 'average_temp': 25.730000000000018, 'max_temp': 25.730000000000018, 'min_temp': 25.730000000000018, 'dominant_condition': 'Mist'}\n",
        "]\n",
        "\n",
        "plot_daily_summary(sample_data)\n"
      ],
      "metadata": {
        "colab": {
          "base_uri": "https://localhost:8080/",
          "height": 607
        },
        "id": "tNDZeQ9qhmDX",
        "outputId": "dc081061-fb1d-42cb-b62f-8f75716bc056"
      },
      "execution_count": 24,
      "outputs": [
        {
          "output_type": "display_data",
          "data": {
            "text/plain": [
              "<Figure size 1000x600 with 1 Axes>"
            ],
            "image/png": "[encoded data removed]"
          },
          "metadata": {}
        }
      ]
    }
  ]
}